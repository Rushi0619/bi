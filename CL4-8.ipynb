{
 "cells": [
  {
   "cell_type": "code",
   "execution_count": 1,
   "id": "b340a83b-d32c-4301-8669-8624f27d41e4",
   "metadata": {},
   "outputs": [
    {
     "name": "stdout",
     "output_type": "stream",
     "text": [
      "Student 5 has been assigned grade A.\n"
     ]
    }
   ],
   "source": [
    "from collections import defaultdict \n",
    "def map_function(student_scores):  \n",
    " for student_id, score in student_scores: \n",
    "     yield student_id, score \n",
    "def reduce_function(mapped_data): \n",
    " grades = {} \n",
    " for student_id, score in mapped_data: \n",
    "     if score > 80: \n",
    "         grade = 'A' \n",
    "     elif score > 60: \n",
    "         grade = 'B' \n",
    "     elif score > 40: \n",
    "         grade = 'C' \n",
    " \n",
    "     else:\n",
    "         grade = 'D'\n",
    " grades[student_id] = grade\n",
    " return grades\n",
    "def map_reduce(student_scores):\n",
    " mapped_data = list(map_function(student_scores))\n",
    " grades = reduce_function(mapped_data)\n",
    " \n",
    " return grades\n",
    "\n",
    "student_scores = [\n",
    " (1, 85),\n",
    " (2, 75),\n",
    " (3, 55),\n",
    " (4, 35),\n",
    " (5, 90)\n",
    "]\n",
    "grades = map_reduce(student_scores)\n",
    "for student_id, grade in grades.items():\n",
    " print(f\"Student {student_id} has been assigned grade {grade}.\")"
   ]
  },
  {
   "cell_type": "code",
   "execution_count": null,
   "id": "581bd1df-567e-4d90-9f63-5ba512caad7a",
   "metadata": {},
   "outputs": [],
   "source": []
  }
 ],
 "metadata": {
  "kernelspec": {
   "display_name": "Python 3 (ipykernel)",
   "language": "python",
   "name": "python3"
  },
  "language_info": {
   "codemirror_mode": {
    "name": "ipython",
    "version": 3
   },
   "file_extension": ".py",
   "mimetype": "text/x-python",
   "name": "python",
   "nbconvert_exporter": "python",
   "pygments_lexer": "ipython3",
   "version": "3.11.7"
  }
 },
 "nbformat": 4,
 "nbformat_minor": 5
}
