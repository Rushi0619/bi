{
 "cells": [
  {
   "cell_type": "code",
   "execution_count": 15,
   "id": "5a8f32ae",
   "metadata": {},
   "outputs": [],
   "source": [
    "import pandas as pd"
   ]
  },
  {
   "cell_type": "code",
   "execution_count": 20,
   "id": "aaeae771",
   "metadata": {},
   "outputs": [],
   "source": [
    "def map_reduce(input_file):\n",
    "    df = pd.read_csv(input_file)\n",
    "    \n",
    "    #Map phase males\n",
    "    deceased_males = df[(df['Survived'] == 0) & (df['Sex'] == 'male')]\n",
    "    \n",
    "    #reduce by average age\n",
    "    avg_age_deceased_males = deceased_males['Age'].mean()\n",
    "    \n",
    "    #Map phase females\n",
    "    deceased_females = df[(df['Survived'] == 0) & (df['Sex'] == 'female')]\n",
    "    \n",
    "    #Reduce phase females  by counts\n",
    "    count_deceased_females_class = deceased_females['Pclass'].value_counts() #if there is column Class is presrnt in dataset replace Pclass by Class\n",
    "    \n",
    "    return avg_age_deceased_males, count_deceased_females_class\n",
    "\n",
    "input_file = \"C:/Users/rushi/Documents/titanic.csv\"\n",
    "avg_age, female_class_count = map_reduce(input_file)"
   ]
  },
  {
   "cell_type": "code",
   "execution_count": 21,
   "id": "0577a50f",
   "metadata": {},
   "outputs": [],
   "source": [
    "input_file = \"C:/Users/rushi/Documents/titanic.csv\"\n",
    "avg_age, female_class_count = map_reduce(input_file)"
   ]
  },
  {
   "cell_type": "code",
   "execution_count": 22,
   "id": "b039cdf3",
   "metadata": {},
   "outputs": [
    {
     "name": "stdout",
     "output_type": "stream",
     "text": [
      "Average age of males who died 31.618055555555557\n",
      "Females count by class\n",
      "Pclass\n",
      "3    72\n",
      "2     6\n",
      "1     3\n",
      "Name: count, dtype: int64\n"
     ]
    }
   ],
   "source": [
    "print(\"Average age of males who died\", avg_age)\n",
    "print(\"Females count by class\")\n",
    "print(female_class_count)"
   ]
  },
  {
   "cell_type": "code",
   "execution_count": null,
   "id": "86e03cb3",
   "metadata": {},
   "outputs": [],
   "source": []
  }
 ],
 "metadata": {
  "kernelspec": {
   "display_name": "Python 3 (ipykernel)",
   "language": "python",
   "name": "python3"
  },
  "language_info": {
   "codemirror_mode": {
    "name": "ipython",
    "version": 3
   },
   "file_extension": ".py",
   "mimetype": "text/x-python",
   "name": "python",
   "nbconvert_exporter": "python",
   "pygments_lexer": "ipython3",
   "version": "3.11.7"
  }
 },
 "nbformat": 4,
 "nbformat_minor": 5
}
