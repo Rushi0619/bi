{
 "cells": [
  {
   "cell_type": "code",
   "execution_count": 5,
   "id": "ea4a3f8a-c2ef-4cea-9488-b9a0bed73d3d",
   "metadata": {},
   "outputs": [
    {
     "name": "stdout",
     "output_type": "stream",
     "text": [
      "Training Accuracy: 0.95\n",
      "Testing Accuracy: 0.9666666666666667\n",
      "Classification Report on Test Data:\n",
      "              precision    recall  f1-score   support\n",
      "\n",
      "           0       1.00      1.00      1.00        13\n",
      "           1       0.89      1.00      0.94         8\n",
      "           2       1.00      0.89      0.94         9\n",
      "\n",
      "    accuracy                           0.97        30\n",
      "   macro avg       0.96      0.96      0.96        30\n",
      "weighted avg       0.97      0.97      0.97        30\n",
      "\n",
      "classification report of train data:\n",
      "              precision    recall  f1-score   support\n",
      "\n",
      "           0       1.00      1.00      1.00        37\n",
      "           1       0.93      0.93      0.93        42\n",
      "           2       0.93      0.93      0.93        41\n",
      "\n",
      "    accuracy                           0.95       120\n",
      "   macro avg       0.95      0.95      0.95       120\n",
      "weighted avg       0.95      0.95      0.95       120\n",
      "\n"
     ]
    }
   ],
   "source": [
    "from sklearn.datasets import load_iris\n",
    "from sklearn.model_selection import train_test_split\n",
    "from sklearn.preprocessing import StandardScaler\n",
    "from sklearn.linear_model import LogisticRegression\n",
    "from sklearn.metrics import accuracy_score,classification_report\n",
    "iris = load_iris()\n",
    "x = iris.data\n",
    "y = iris.target\n",
    "x_train,x_test,y_train,y_test = train_test_split(x,y,test_size=0.2,random_state=43)\n",
    "sd = StandardScaler()\n",
    "x_train = sd.fit_transform(x_train) \n",
    "x_test = sd.transform(x_test) \n",
    "\n",
    "model = LogisticRegression() \n",
    "model.fit(x_train, y_train) \n",
    "\n",
    "y_pred_train = model.predict(x_train) \n",
    "y_pred_test = model.predict(x_test) \n",
    "\n",
    "train_accuracy = accuracy_score(y_train, y_pred_train) \n",
    "test_accuracy = accuracy_score(y_test, y_pred_test) \n",
    "print(\"Training Accuracy:\", train_accuracy) \n",
    "print(\"Testing Accuracy:\", test_accuracy) \n",
    "\n",
    "print(\"Classification Report on Test Data:\") \n",
    "print(classification_report(y_test, y_pred_test))\n",
    "print('classification report of train data:')\n",
    "print(classification_report(y_train,y_pred_train))"
   ]
  },
  {
   "cell_type": "code",
   "execution_count": null,
   "id": "a4c5a655-231d-459d-a6f7-214273e0b0d6",
   "metadata": {},
   "outputs": [],
   "source": []
  },
  {
   "cell_type": "code",
   "execution_count": 2,
   "id": "6c463a82-15be-461d-937f-bb05cc8cd6b7",
   "metadata": {},
   "outputs": [],
   "source": []
  },
  {
   "cell_type": "code",
   "execution_count": null,
   "id": "b635591d-b607-4b9d-ab86-502cd35d366f",
   "metadata": {},
   "outputs": [],
   "source": []
  },
  {
   "cell_type": "code",
   "execution_count": null,
   "id": "f66d602c-afe4-414b-9c39-3894fabbf1df",
   "metadata": {},
   "outputs": [],
   "source": []
  },
  {
   "cell_type": "code",
   "execution_count": null,
   "id": "877221d6-2dde-4fdf-b25b-a4384c8b2631",
   "metadata": {},
   "outputs": [],
   "source": []
  }
 ],
 "metadata": {
  "kernelspec": {
   "display_name": "Python 3 (ipykernel)",
   "language": "python",
   "name": "python3"
  },
  "language_info": {
   "codemirror_mode": {
    "name": "ipython",
    "version": 3
   },
   "file_extension": ".py",
   "mimetype": "text/x-python",
   "name": "python",
   "nbconvert_exporter": "python",
   "pygments_lexer": "ipython3",
   "version": "3.11.7"
  }
 },
 "nbformat": 4,
 "nbformat_minor": 5
}
