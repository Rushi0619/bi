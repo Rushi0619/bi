{
 "cells": [
  {
   "cell_type": "code",
   "execution_count": 1,
   "id": "e96e1a4c-fe19-43de-a39e-d0d201d83547",
   "metadata": {},
   "outputs": [
    {
     "name": "stdout",
     "output_type": "stream",
     "text": [
      "The word 'Hello' appears 2 times.\n"
     ]
    }
   ],
   "source": [
    "def map_reduce(file_path, target_word): \n",
    " word_count = 0 \n",
    " with open(file_path, 'r') as file: \n",
    "     mapped_data = [(word.lower(), 1) for line in file for word in line.strip().split()] \n",
    " \n",
    " \n",
    " for word, count in mapped_data: \n",
    "     if word == target_word.lower(): \n",
    "         word_count += count \n",
    " \n",
    " return word_count  \n",
    "file_path = \"C:/Users/rushi/Desktop/BE Practicles/P3/text_file.txt\" \n",
    "target_word = \"Hello\" \n",
    "\n",
    "frequency = map_reduce(file_path, target_word)\n",
    "print(f\"The word '{target_word}' appears {frequency} times.\")"
   ]
  },
  {
   "cell_type": "code",
   "execution_count": null,
   "id": "9aba5130-6cf7-4d2a-b4b4-07b61d72d027",
   "metadata": {},
   "outputs": [],
   "source": []
  }
 ],
 "metadata": {
  "kernelspec": {
   "display_name": "Python 3 (ipykernel)",
   "language": "python",
   "name": "python3"
  },
  "language_info": {
   "codemirror_mode": {
    "name": "ipython",
    "version": 3
   },
   "file_extension": ".py",
   "mimetype": "text/x-python",
   "name": "python",
   "nbconvert_exporter": "python",
   "pygments_lexer": "ipython3",
   "version": "3.11.7"
  }
 },
 "nbformat": 4,
 "nbformat_minor": 5
}
